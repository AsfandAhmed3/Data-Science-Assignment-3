{
 "cells": [
  {
   "cell_type": "markdown",
   "id": "fa899c98-a1e1-4efc-986e-743dce388d67",
   "metadata": {},
   "source": [
    "Task 1"
   ]
  },
  {
   "cell_type": "code",
   "execution_count": 5,
   "id": "9ca13fe1-b5fd-4ce6-b70f-3b47a257d55f",
   "metadata": {},
   "outputs": [
    {
     "name": "stdout",
     "output_type": "stream",
     "text": [
      "Dataset columns: ['Disease', 'Risk Factors', 'Symptoms', 'Signs', 'Subtypes']\n"
     ]
    },
    {
     "data": {
      "text/html": [
       "<div>\n",
       "<style scoped>\n",
       "    .dataframe tbody tr th:only-of-type {\n",
       "        vertical-align: middle;\n",
       "    }\n",
       "\n",
       "    .dataframe tbody tr th {\n",
       "        vertical-align: top;\n",
       "    }\n",
       "\n",
       "    .dataframe thead th {\n",
       "        text-align: right;\n",
       "    }\n",
       "</style>\n",
       "<table border=\"1\" class=\"dataframe\">\n",
       "  <thead>\n",
       "    <tr style=\"text-align: right;\">\n",
       "      <th></th>\n",
       "      <th>Disease</th>\n",
       "      <th>Risk Factors_processed</th>\n",
       "      <th>Symptoms_processed</th>\n",
       "      <th>Signs_processed</th>\n",
       "      <th>Subtypes_processed</th>\n",
       "    </tr>\n",
       "  </thead>\n",
       "  <tbody>\n",
       "    <tr>\n",
       "      <th>0</th>\n",
       "      <td>Acute Coronary Syndrome</td>\n",
       "      <td>Hyperlipidemia hypertension smoking diabetes i...</td>\n",
       "      <td>Chest pain sweating nausea vomiting palpitatio...</td>\n",
       "      <td></td>\n",
       "      <td>UA hs-cTn levels are normal，Normal ECG NSTEMI ...</td>\n",
       "    </tr>\n",
       "    <tr>\n",
       "      <th>1</th>\n",
       "      <td>Adrenal Insufficiency</td>\n",
       "      <td>Autoimmune diseases Genetic predisposition Inf...</td>\n",
       "      <td>Fatigue Muscle weakness Weight loss Gastrointe...</td>\n",
       "      <td>Hyperpigmentation (especially in creases of sk...</td>\n",
       "      <td>Primary Adrenal Insufficiency 1. Often there a...</td>\n",
       "    </tr>\n",
       "    <tr>\n",
       "      <th>2</th>\n",
       "      <td>Alzheimer</td>\n",
       "      <td>Age genetic factors gender cardiovascular heal...</td>\n",
       "      <td>Cognitive decline, including memory loss and d...</td>\n",
       "      <td></td>\n",
       "      <td>Alzheimer 1. Clinical Assessment\\n    Detailed...</td>\n",
       "    </tr>\n",
       "    <tr>\n",
       "      <th>3</th>\n",
       "      <td>Aortic Dissection</td>\n",
       "      <td>Hypertension Atherosclerosis Family history Hi...</td>\n",
       "      <td>Intense chest or upper back pain Sudden severe...</td>\n",
       "      <td></td>\n",
       "      <td>Type A Aortic Dissection CT, MRI, TEE checking...</td>\n",
       "    </tr>\n",
       "    <tr>\n",
       "      <th>4</th>\n",
       "      <td>Asthma</td>\n",
       "      <td>Allergies family history of asthma or allergie...</td>\n",
       "      <td>Recurrent episodes of wheezing breathlessness ...</td>\n",
       "      <td>Observable signs during a physical examination...</td>\n",
       "      <td>Severe Asthma doesn't respond well to conventi...</td>\n",
       "    </tr>\n",
       "  </tbody>\n",
       "</table>\n",
       "</div>"
      ],
      "text/plain": [
       "                   Disease                             Risk Factors_processed  \\\n",
       "0  Acute Coronary Syndrome  Hyperlipidemia hypertension smoking diabetes i...   \n",
       "1    Adrenal Insufficiency  Autoimmune diseases Genetic predisposition Inf...   \n",
       "2                Alzheimer  Age genetic factors gender cardiovascular heal...   \n",
       "3        Aortic Dissection  Hypertension Atherosclerosis Family history Hi...   \n",
       "4                   Asthma  Allergies family history of asthma or allergie...   \n",
       "\n",
       "                                  Symptoms_processed  \\\n",
       "0  Chest pain sweating nausea vomiting palpitatio...   \n",
       "1  Fatigue Muscle weakness Weight loss Gastrointe...   \n",
       "2  Cognitive decline, including memory loss and d...   \n",
       "3  Intense chest or upper back pain Sudden severe...   \n",
       "4  Recurrent episodes of wheezing breathlessness ...   \n",
       "\n",
       "                                     Signs_processed  \\\n",
       "0                                                      \n",
       "1  Hyperpigmentation (especially in creases of sk...   \n",
       "2                                                      \n",
       "3                                                      \n",
       "4  Observable signs during a physical examination...   \n",
       "\n",
       "                                  Subtypes_processed  \n",
       "0  UA hs-cTn levels are normal，Normal ECG NSTEMI ...  \n",
       "1  Primary Adrenal Insufficiency 1. Often there a...  \n",
       "2  Alzheimer 1. Clinical Assessment\\n    Detailed...  \n",
       "3  Type A Aortic Dissection CT, MRI, TEE checking...  \n",
       "4  Severe Asthma doesn't respond well to conventi...  "
      ]
     },
     "execution_count": 5,
     "metadata": {},
     "output_type": "execute_result"
    }
   ],
   "source": [
    "import pandas as pd\n",
    "import ast\n",
    "import numpy as np\n",
    "\n",
    "df = pd.read_csv('C:/university projects/DS Assignment 3/disease_features.csv')\n",
    "\n",
    "print(\"Dataset columns:\", df.columns.tolist())\n",
    "\n",
    "def parse_str_object(s):\n",
    "    \"\"\"\n",
    "    Attempt to parse a string that represents a Python list or dict.\n",
    "    If successful and it's a list, join the list elements into a string.\n",
    "    If it is a dict or any other type, return its string representation.\n",
    "    If parsing fails, return the original string.\n",
    "    \"\"\"\n",
    "    try:\n",
    "        parsed = ast.literal_eval(s)\n",
    "        if isinstance(parsed, list):\n",
    "            return \" \".join([str(item).strip() for item in parsed])\n",
    "        elif isinstance(parsed, dict):\n",
    "            return \" \".join([f\"{key} {value}\" for key, value in parsed.items()])\n",
    "        else:\n",
    "            return str(parsed)\n",
    "    except Exception as e:\n",
    "        return s\n",
    "for col in ['Risk Factors', 'Symptoms', 'Signs', 'Subtypes']:\n",
    "    df[col + '_processed'] = df[col].apply(parse_str_object)\n",
    "\n",
    "df[['Disease', 'Risk Factors_processed', 'Symptoms_processed', 'Signs_processed', 'Subtypes_processed']].head()\n",
    "\n"
   ]
  },
  {
   "cell_type": "code",
   "execution_count": 7,
   "id": "8cfa5a28-cfa0-4c65-8063-51d0f8bf080c",
   "metadata": {},
   "outputs": [
    {
     "name": "stdout",
     "output_type": "stream",
     "text": [
      "Unique features (Risk Factors): 360\n",
      "Unique features (Symptoms): 424\n",
      "Unique features (Signs): 236\n"
     ]
    }
   ],
   "source": [
    "from sklearn.feature_extraction.text import TfidfVectorizer\n",
    "\n",
    "tfidf_rf = TfidfVectorizer()\n",
    "tfidf_symp = TfidfVectorizer()\n",
    "tfidf_signs = TfidfVectorizer()\n",
    "X_rf = tfidf_rf.fit_transform(df['Risk Factors_processed'])\n",
    "X_symp = tfidf_symp.fit_transform(df['Symptoms_processed'])\n",
    "X_signs = tfidf_signs.fit_transform(df['Signs_processed'])\n",
    "print(\"Unique features (Risk Factors):\", len(tfidf_rf.get_feature_names_out()))\n",
    "print(\"Unique features (Symptoms):\", len(tfidf_symp.get_feature_names_out()))\n",
    "print(\"Unique features (Signs):\", len(tfidf_signs.get_feature_names_out()))\n"
   ]
  },
  {
   "cell_type": "code",
   "execution_count": 9,
   "id": "ab757795-7b11-4ba5-a88d-33e69311ba49",
   "metadata": {},
   "outputs": [
    {
     "name": "stdout",
     "output_type": "stream",
     "text": [
      "Combined TF-IDF matrix shape: (25, 1020)\n"
     ]
    }
   ],
   "source": [
    "from scipy.sparse import hstack\n",
    "\n",
    "X_tfidf = hstack([X_rf, X_symp, X_signs])\n",
    "print(\"Combined TF-IDF matrix shape:\", X_tfidf.shape)\n"
   ]
  },
  {
   "cell_type": "code",
   "execution_count": 13,
   "id": "b2a2c129-b0d6-473d-9f23-2876f5f932fd",
   "metadata": {},
   "outputs": [
    {
     "name": "stdout",
     "output_type": "stream",
     "text": [
      "One-hot encoded matrix shape: (25, 497)\n",
      "TF-IDF matrix sparsity: 92.96%\n",
      "One-hot encoded matrix sparsity: 95.15%\n"
     ]
    }
   ],
   "source": [
    "df_onehot = pd.read_csv('C:/university projects/DS Assignment 3/encoded_output2.csv')\n",
    "print(\"One-hot encoded matrix shape:\", df_onehot.shape)\n",
    "num_elements_tfidf = X_tfidf.shape[0] * X_tfidf.shape[1]\n",
    "nonzero_tfidf = X_tfidf.count_nonzero()\n",
    "sparsity_tfidf = (1 - nonzero_tfidf / num_elements_tfidf) * 100\n",
    "print(\"TF-IDF matrix sparsity: {:.2f}%\".format(sparsity_tfidf))\n",
    "\n",
    "onehot_array = df_onehot.values\n",
    "num_elements_onehot = onehot_array.size\n",
    "nonzero_onehot = np.count_nonzero(onehot_array)\n",
    "sparsity_onehot = (1 - nonzero_onehot / num_elements_onehot) * 100\n",
    "print(\"One-hot encoded matrix sparsity: {:.2f}%\".format(sparsity_onehot))\n"
   ]
  },
  {
   "cell_type": "code",
   "execution_count": 17,
   "id": "8d344b0f-287c-4cf4-8880-09975ad32e66",
   "metadata": {},
   "outputs": [],
   "source": [
    "import pandas as pd\n",
    "\n",
    "feature_names = [f'feature_{i}' for i in range(X_tfidf.shape[1])]\n",
    "df_tfidf = pd.DataFrame(X_tfidf.toarray(), columns=feature_names)\n",
    "df_tfidf.insert(0, 'Disease', df['Disease'].values)\n",
    "\n",
    "# Save the DataFrame to CSV\n",
    "df_tfidf.to_csv('outputtfidf.csv', index=False)\n"
   ]
  },
  {
   "cell_type": "markdown",
   "id": "800bca68-39d8-414e-b002-e8b82a61aef4",
   "metadata": {},
   "source": [
    "Task 2"
   ]
  },
  {
   "cell_type": "code",
   "execution_count": 23,
   "id": "3e02b64e-41b8-4f5a-a409-f580f8bb5d21",
   "metadata": {},
   "outputs": [],
   "source": [
    "import pandas as pd\n",
    "onehot_df = pd.read_csv('C:/university projects/DS Assignment 3/encoded_output2.csv')\n",
    "\n",
    "X_onehot = onehot_df.drop(columns=['Disease']) if 'Disease' in onehot_df.columns else onehot_df\n"
   ]
  },
  {
   "cell_type": "code",
   "execution_count": 27,
   "id": "4e68f8c4-4ca3-430d-84ba-63227c67118d",
   "metadata": {},
   "outputs": [],
   "source": [
    "from sklearn.decomposition import PCA, TruncatedSVD\n",
    "\n",
    "pca_tfidf = PCA(n_components=2)\n",
    "pca_onehot = PCA(n_components=2)\n",
    "\n",
    "svd_tfidf = TruncatedSVD(n_components=2)\n",
    "svd_onehot = TruncatedSVD(n_components=2)\n",
    "\n",
    "X_pca_tfidf = pca_tfidf.fit_transform(X_tfidf.toarray())\n",
    "X_pca_onehot = pca_onehot.fit_transform(X_onehot)\n",
    "\n",
    "X_svd_tfidf = svd_tfidf.fit_transform(X_tfidf)\n",
    "X_svd_onehot = svd_onehot.fit_transform(X_onehot)\n"
   ]
  },
  {
   "cell_type": "code",
   "execution_count": 29,
   "id": "20d9c07c-ef5b-4e1e-85c8-820d9b3104e8",
   "metadata": {},
   "outputs": [
    {
     "name": "stdout",
     "output_type": "stream",
     "text": [
      "PCA (TF-IDF) explained variance: [0.06583365 0.05889337]\n",
      "PCA (One-hot) explained variance: [0.10538866 0.09170854]\n"
     ]
    }
   ],
   "source": [
    "print(\"PCA (TF-IDF) explained variance:\", pca_tfidf.explained_variance_ratio_)\n",
    "print(\"PCA (One-hot) explained variance:\", pca_onehot.explained_variance_ratio_)\n"
   ]
  },
  {
   "cell_type": "code",
   "execution_count": 31,
   "id": "09c98ccf-65f7-4ce6-a393-894612cf15ab",
   "metadata": {},
   "outputs": [
    {
     "data": {
      "image/png": "[encoded data removed]",
      "text/plain": [
       "<Figure size 800x600 with 2 Axes>"
      ]
     },
     "metadata": {},
     "output_type": "display_data"
    }
   ],
   "source": [
    "import matplotlib.pyplot as plt\n",
    "\n",
    "categories = df['Disease'].apply(lambda d: d.split()[0]) \n",
    "plt.figure(figsize=(8,6))\n",
    "plt.scatter(X_pca_tfidf[:, 0], X_pca_tfidf[:, 1], c=pd.factorize(categories)[0], cmap='rainbow')\n",
    "plt.title('PCA - TF-IDF (2D)')\n",
    "plt.xlabel('PC1')\n",
    "plt.ylabel('PC2')\n",
    "plt.colorbar()\n",
    "plt.show()\n"
   ]
  },
  {
   "cell_type": "markdown",
   "id": "023fbef0-ff9e-4f25-b26e-2412d8d0a837",
   "metadata": {},
   "source": [
    "Task 3 "
   ]
  },
  {
   "cell_type": "markdown",
   "id": "1b1cf37a-f674-4231-a49d-0189a2280c25",
   "metadata": {},
   "source": [
    "It is for how many samples in categories"
   ]
  },
  {
   "cell_type": "code",
   "execution_count": 61,
   "id": "9e949bf9-1c54-4587-9611-61fb8cc8ac48",
   "metadata": {},
   "outputs": [
    {
     "name": "stdout",
     "output_type": "stream",
     "text": [
      "Counter({0: 1, 1: 1, 2: 1, 3: 1, 4: 1, 5: 1, 7: 1, 6: 1, 8: 1, 9: 1, 10: 1, 11: 1, 12: 1, 13: 1, 14: 1, 15: 1, 16: 1, 17: 1, 18: 1, 19: 1, 20: 1, 21: 1, 22: 1, 23: 1, 24: 1})\n"
     ]
    }
   ],
   "source": [
    "from collections import Counter\n",
    "print(Counter(y))\n"
   ]
  },
  {
   "cell_type": "code",
   "execution_count": 77,
   "id": "bb8a25b9-eba8-4a0c-b778-c21a2389a021",
   "metadata": {},
   "outputs": [],
   "source": [
    "import numpy as np\n",
    "import pandas as pd\n",
    "from sklearn.model_selection import KFold, cross_validate\n",
    "from sklearn.neighbors import KNeighborsClassifier\n",
    "from sklearn.linear_model import LogisticRegression\n",
    "from sklearn.metrics import make_scorer, accuracy_score, precision_score, recall_score, f1_score\n",
    "\n",
    "k_values = [3, 5, 7]\n",
    "distance_metrics = ['euclidean', 'manhattan', 'cosine']\n",
    "\n",
    "cv = KFold(n_splits=5, shuffle=True, random_state=42)\n",
    "\n",
    "scoring = {\n",
    "    'accuracy': 'accuracy',\n",
    "    'precision': make_scorer(precision_score, average='macro', zero_division=0),\n",
    "    'recall': make_scorer(recall_score, average='macro', zero_division=0),\n",
    "    'f1': make_scorer(f1_score, average='macro', zero_division=0)\n",
    "}\n"
   ]
  },
  {
   "cell_type": "markdown",
   "id": "febe3eea-7907-4065-ae53-93f0fe83540a",
   "metadata": {},
   "source": [
    "The data set is too short so the KNN model can not be trained on it so i redifined the categories so the sample size will increase"
   ]
  },
  {
   "cell_type": "code",
   "execution_count": 79,
   "id": "69382c96-5fd5-4c85-b061-5cb2d258ad2c",
   "metadata": {},
   "outputs": [
    {
     "name": "stdout",
     "output_type": "stream",
     "text": [
      "Category Distribution:\n",
      " Category\n",
      "Other               12\n",
      "Cardiovascular       4\n",
      "Endocrine            3\n",
      "Respiratory          3\n",
      "Gastrointestinal     2\n",
      "Neurological         1\n",
      "Name: count, dtype: int64\n",
      "Encoded Category Labels:\n",
      " [0 1 3 0 5 4 4 4 4 4 4 4 4 4 4 4 4 2 1 5 0 0 1 5 2]\n"
     ]
    }
   ],
   "source": [
    "\n",
    "disease_to_category = {\n",
    "    'Acute Coronary Syndrome': 'Cardiovascular',\n",
    "    'Aortic Dissection': 'Cardiovascular',\n",
    "    'Stroke': 'Cardiovascular',\n",
    "    'Pulmonary Embolism': 'Cardiovascular',\n",
    "    'Adrenal Insufficiency': 'Endocrine',\n",
    "    'Thyroid Disease': 'Endocrine',\n",
    "    'Pituitary Disease': 'Endocrine',\n",
    "    'Alzheimer': 'Neurological',\n",
    "    'Asthma': 'Respiratory',\n",
    "    'Pneumonia': 'Respiratory',\n",
    "    'Tuberculosis': 'Respiratory',\n",
    "    'Peptic Ulcer Disease': 'Gastrointestinal',\n",
    "    'Upper Gastrointestinal Bleeding': 'Gastrointestinal'\n",
    "}\n",
    "\n",
    "df['Category'] = df['Disease'].apply(lambda x: disease_to_category.get(x, 'Other'))\n",
    "\n",
    "print(\"Category Distribution:\\n\", df['Category'].value_counts())\n",
    "\n",
    "from sklearn.preprocessing import LabelEncoder\n",
    "le_cat = LabelEncoder()\n",
    "y_grouped = le_cat.fit_transform(df['Category'])\n",
    "print(\"Encoded Category Labels:\\n\", y_grouped)\n"
   ]
  },
  {
   "cell_type": "code",
   "execution_count": 81,
   "id": "05548e25-ac9b-41be-b9b2-c61ae69693c6",
   "metadata": {},
   "outputs": [],
   "source": [
    "def run_knn_models(X, y, k_values, metrics, cv, scoring):\n",
    "    results = []\n",
    "    for metric in metrics:\n",
    "        for k in k_values:\n",
    "            knn = KNeighborsClassifier(n_neighbors=k, metric=metric)\n",
    "            \n",
    "            cv_results = cross_validate(knn, X, y, cv=cv, scoring=scoring)\n",
    "            result = {\n",
    "                'k': k,\n",
    "                'metric': metric,\n",
    "                'accuracy': np.mean(cv_results['test_accuracy']),\n",
    "                'precision': np.mean(cv_results['test_precision']),\n",
    "                'recall': np.mean(cv_results['test_recall']),\n",
    "                'f1': np.mean(cv_results['test_f1'])\n",
    "            }\n",
    "            results.append(result)\n",
    "    return pd.DataFrame(results)\n",
    "\n",
    "def run_logistic_regression(X, y, cv, scoring):\n",
    "    logreg = LogisticRegression(max_iter=1000)\n",
    "    cv_results = cross_validate(logreg, X, y, cv=cv, scoring=scoring)\n",
    "    return {\n",
    "        'accuracy': np.mean(cv_results['test_accuracy']),\n",
    "        'precision': np.mean(cv_results['test_precision']),\n",
    "        'recall': np.mean(cv_results['test_recall']),\n",
    "        'f1': np.mean(cv_results['test_f1'])\n",
    "    }\n"
   ]
  },
  {
   "cell_type": "code",
   "execution_count": 83,
   "id": "c9ab4fa6-e468-407b-bca9-c6e3a9604913",
   "metadata": {},
   "outputs": [
    {
     "name": "stdout",
     "output_type": "stream",
     "text": [
      "KNN Results on TF-IDF Features (Grouped Categories):\n",
      "   k     metric  accuracy  precision    recall        f1\n",
      "0  3  euclidean      0.32   0.172778  0.155278  0.149444\n",
      "1  5  euclidean      0.40   0.140833  0.183333  0.154762\n",
      "2  7  euclidean      0.44   0.170000  0.266667  0.203571\n",
      "3  3  manhattan      0.44   0.214444  0.275000  0.225000\n",
      "4  5  manhattan      0.44   0.170000  0.266667  0.203571\n",
      "5  7  manhattan      0.48   0.200000  0.316667  0.242460\n",
      "6  3     cosine      0.24   0.225000  0.188889  0.200000\n",
      "7  5     cosine      0.48   0.345000  0.333333  0.310714\n",
      "8  7     cosine      0.36   0.182222  0.214444  0.175238\n",
      "\n",
      "KNN Results on One-Hot Features (Grouped Categories):\n",
      "   k     metric  accuracy  precision    recall        f1\n",
      "0  3  euclidean      0.48   0.200000  0.316667  0.242460\n",
      "1  5  euclidean      0.48   0.200000  0.316667  0.242460\n",
      "2  7  euclidean      0.48   0.200000  0.316667  0.242460\n",
      "3  3  manhattan      0.48   0.200000  0.316667  0.242460\n",
      "4  5  manhattan      0.48   0.200000  0.316667  0.242460\n",
      "5  7  manhattan      0.48   0.200000  0.316667  0.242460\n",
      "6  3     cosine      0.32   0.193333  0.214444  0.197460\n",
      "7  5     cosine      0.36   0.137778  0.194444  0.154762\n",
      "8  7     cosine      0.44   0.173333  0.261111  0.205556\n",
      "\n",
      "Logistic Regression Results on TF-IDF Features (Grouped Categories):\n",
      "{'accuracy': 0.4800000000000001, 'precision': 0.2, 'recall': 0.31666666666666665, 'f1': 0.24246031746031743}\n",
      "\n",
      "Logistic Regression Results on One-Hot Features (Grouped Categories):\n",
      "{'accuracy': 0.4800000000000001, 'precision': 0.2, 'recall': 0.31666666666666665, 'f1': 0.24246031746031743}\n"
     ]
    }
   ],
   "source": [
    "\n",
    "X_tfidf_dense = X_tfidf.toarray()\n",
    "\n",
    "if isinstance(X_onehot, pd.DataFrame):\n",
    "    X_onehot_array = X_onehot.values\n",
    "else:\n",
    "    X_onehot_array = X_onehot\n",
    "\n",
    "knn_results_tfidf = run_knn_models(X_tfidf_dense, y_grouped, k_values, distance_metrics, cv, scoring)\n",
    "print(\"KNN Results on TF-IDF Features (Grouped Categories):\")\n",
    "print(knn_results_tfidf)\n",
    "\n",
    "knn_results_onehot = run_knn_models(X_onehot_array, y_grouped, k_values, distance_metrics, cv, scoring)\n",
    "print(\"\\nKNN Results on One-Hot Features (Grouped Categories):\")\n",
    "print(knn_results_onehot)\n",
    "\n",
    "logreg_results_tfidf = run_logistic_regression(X_tfidf_dense, y_grouped, cv, scoring)\n",
    "print(\"\\nLogistic Regression Results on TF-IDF Features (Grouped Categories):\")\n",
    "print(logreg_results_tfidf)\n",
    "\n",
    "# Run Logistic Regression on One-Hot features\n",
    "logreg_results_onehot = run_logistic_regression(X_onehot_array, y_grouped, cv, scoring)\n",
    "print(\"\\nLogistic Regression Results on One-Hot Features (Grouped Categories):\")\n",
    "print(logreg_results_onehot)\n"
   ]
  },
  {
   "cell_type": "code",
   "execution_count": 85,
   "id": "04d24046-7146-48e6-8f2d-97c9010ef81a",
   "metadata": {},
   "outputs": [
    {
     "name": "stdout",
     "output_type": "stream",
     "text": [
      "==== SUMMARY OF MODEL PERFORMANCE ====\n",
      "\n",
      "KNN (TF-IDF Features):\n",
      "   k     metric  accuracy  precision    recall        f1\n",
      "0  3  euclidean      0.32   0.172778  0.155278  0.149444\n",
      "1  5  euclidean      0.40   0.140833  0.183333  0.154762\n",
      "2  7  euclidean      0.44   0.170000  0.266667  0.203571\n",
      "3  3  manhattan      0.44   0.214444  0.275000  0.225000\n",
      "4  5  manhattan      0.44   0.170000  0.266667  0.203571\n",
      "5  7  manhattan      0.48   0.200000  0.316667  0.242460\n",
      "6  3     cosine      0.24   0.225000  0.188889  0.200000\n",
      "7  5     cosine      0.48   0.345000  0.333333  0.310714\n",
      "8  7     cosine      0.36   0.182222  0.214444  0.175238\n",
      "\n",
      "KNN (One-Hot Features):\n",
      "   k     metric  accuracy  precision    recall        f1\n",
      "0  3  euclidean      0.48   0.200000  0.316667  0.242460\n",
      "1  5  euclidean      0.48   0.200000  0.316667  0.242460\n",
      "2  7  euclidean      0.48   0.200000  0.316667  0.242460\n",
      "3  3  manhattan      0.48   0.200000  0.316667  0.242460\n",
      "4  5  manhattan      0.48   0.200000  0.316667  0.242460\n",
      "5  7  manhattan      0.48   0.200000  0.316667  0.242460\n",
      "6  3     cosine      0.32   0.193333  0.214444  0.197460\n",
      "7  5     cosine      0.36   0.137778  0.194444  0.154762\n",
      "8  7     cosine      0.44   0.173333  0.261111  0.205556\n",
      "\n",
      "Logistic Regression (TF-IDF Features):\n",
      "{'accuracy': 0.4800000000000001, 'precision': 0.2, 'recall': 0.31666666666666665, 'f1': 0.24246031746031743}\n",
      "\n",
      "Logistic Regression (One-Hot Features):\n",
      "{'accuracy': 0.4800000000000001, 'precision': 0.2, 'recall': 0.31666666666666665, 'f1': 0.24246031746031743}\n"
     ]
    }
   ],
   "source": [
    "print(\"SUMMARY OF MODEL PERFORMANCE\")\n",
    "\n",
    "print(\"\\nKNN (TF-IDF Features):\")\n",
    "print(knn_results_tfidf)\n",
    "\n",
    "print(\"\\nKNN (One-Hot Features):\")\n",
    "print(knn_results_onehot)\n",
    "\n",
    "print(\"\\nLogistic Regression (TF-IDF Features):\")\n",
    "print(logreg_results_tfidf)\n",
    "\n",
    "print(\"\\nLogistic Regression (One-Hot Features):\")\n",
    "print(logreg_results_onehot)\n"
   ]
  },
  {
   "cell_type": "code",
   "execution_count": null,
   "id": "6afa97fe-6b03-4217-a0d3-9a25dbd89dc5",
   "metadata": {},
   "outputs": [],
   "source": []
  }
 ],
 "metadata": {
  "kernelspec": {
   "display_name": "Python [conda env:base] *",
   "language": "python",
   "name": "conda-base-py"
  },
  "language_info": {
   "codemirror_mode": {
    "name": "ipython",
    "version": 3
   },
   "file_extension": ".py",
   "mimetype": "text/x-python",
   "name": "python",
   "nbconvert_exporter": "python",
   "pygments_lexer": "ipython3",
   "version": "3.12.7"
  }
 },
 "nbformat": 4,
 "nbformat_minor": 5
}
